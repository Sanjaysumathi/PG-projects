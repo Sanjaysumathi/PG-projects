{
 "cells": [
  {
   "cell_type": "markdown",
   "metadata": {},
   "source": [
    "# Convolutional neural network"
   ]
  },
  {
   "cell_type": "code",
   "execution_count": 9,
   "metadata": {},
   "outputs": [
    {
     "name": "stdout",
     "output_type": "stream",
     "text": [
      "Collecting tensorflow_hub\n",
      "  Downloading tensorflow_hub-0.12.0-py2.py3-none-any.whl (108 kB)\n",
      "Requirement already satisfied: numpy>=1.12.0 in c:\\users\\user\\anaconda3\\lib\\site-packages (from tensorflow_hub) (1.16.6)\n",
      "Requirement already satisfied: protobuf>=3.8.0 in c:\\users\\user\\anaconda3\\lib\\site-packages (from tensorflow_hub) (3.17.3)\n",
      "Requirement already satisfied: six>=1.9 in c:\\users\\user\\anaconda3\\lib\\site-packages (from protobuf>=3.8.0->tensorflow_hub) (1.15.0)\n",
      "Installing collected packages: tensorflow-hub\n",
      "Successfully installed tensorflow-hub-0.12.0\n"
     ]
    }
   ],
   "source": [
    "!pip install tensorflow_hub\n"
   ]
  },
  {
   "cell_type": "code",
   "execution_count": 10,
   "metadata": {},
   "outputs": [],
   "source": [
    "from tensorflow.keras.applications import MobileNetV2\n",
    "from tensorflow.keras.applications.mobilenet_v2 import preprocess_input\n",
    "import tensorflow_hub as hub"
   ]
  },
  {
   "cell_type": "code",
   "execution_count": 20,
   "metadata": {},
   "outputs": [],
   "source": [
    "import time"
   ]
  },
  {
   "cell_type": "code",
   "execution_count": 11,
   "metadata": {},
   "outputs": [
    {
     "name": "stdout",
     "output_type": "stream",
     "text": [
      "2.6.0\n",
      "2.6.0\n",
      "1.16.6\n"
     ]
    }
   ],
   "source": [
    "import tensorflow as tf\n",
    "import keras \n",
    "#python==3.6.9\n",
    "import pandas as pd\n",
    "import numpy as np\n",
    "from tensorflow.keras import layers\n",
    "\n",
    "\n",
    "import numpy as np\n",
    "from keras.preprocessing import image\n",
    "\n",
    "from keras.models import Sequential\n",
    "from keras.applications.vgg16 import VGG16\n",
    "from keras.layers import Dense,Activation,Dropout,Conv2D,MaxPooling2D,Flatten\n",
    "from keras.preprocessing.image import ImageDataGenerator \n",
    "import seaborn as sns\n",
    "\n",
    "\n",
    "\n",
    "print(tf.__version__)\n",
    "print(keras.__version__)\n",
    "print(np.__version__)"
   ]
  },
  {
   "cell_type": "code",
   "execution_count": 17,
   "metadata": {},
   "outputs": [],
   "source": [
    "image_height = 224\n",
    "image_width = 224\n",
    "batch_size = 32"
   ]
  },
  {
   "cell_type": "code",
   "execution_count": null,
   "metadata": {},
   "outputs": [],
   "source": [
    "'''model = keras.Sequential([\n",
    "    layers.Input((28,28,3)),\n",
    "    layers.Conv2D(16,3, padding=\"same\"),\n",
    "    layers.Conv2D(32,3, padding=\"same\"),\n",
    "    layers.MaxPooling2D(),\n",
    "    layers.Flatten(),\n",
    "    layers.Dense(3),\n",
    "])\n",
    "\n",
    "model.compile(loss ='SparseCategoricalcrossentropy', optimizer ='rmsprop',metrics =['accuracy']) '''"
   ]
  },
  {
   "cell_type": "code",
   "execution_count": 18,
   "metadata": {
    "scrolled": true
   },
   "outputs": [
    {
     "name": "stdout",
     "output_type": "stream",
     "text": [
      "Model: \"sequential_7\"\n",
      "_________________________________________________________________\n",
      "Layer (type)                 Output Shape              Param #   \n",
      "=================================================================\n",
      "vgg16 (Functional)           (None, 7, 7, 512)         14714688  \n",
      "_________________________________________________________________\n",
      "flatten_2 (Flatten)          (None, 25088)             0         \n",
      "_________________________________________________________________\n",
      "dense_9 (Dense)              (None, 128)               3211392   \n",
      "_________________________________________________________________\n",
      "dense_10 (Dense)             (None, 64)                8256      \n",
      "_________________________________________________________________\n",
      "dense_11 (Dense)             (None, 64)                4160      \n",
      "_________________________________________________________________\n",
      "dense_12 (Dense)             (None, 4)                 260       \n",
      "=================================================================\n",
      "Total params: 17,938,756\n",
      "Trainable params: 3,224,068\n",
      "Non-trainable params: 14,714,688\n",
      "_________________________________________________________________\n"
     ]
    }
   ],
   "source": [
    "model = Sequential()\n",
    "model.add(VGG16(weights=\"imagenet\", include_top=False, input_shape=(224,224,3)))\n",
    "model.add(Flatten())\n",
    "model.add(Dense(128, activation=\"relu\"))\n",
    "model.add(Dense(64, activation=\"relu\"))\n",
    "model.add(Dense(64, activation=\"relu\"))\n",
    "model.add(Dense(4, activation=\"sigmoid\"))\n",
    " \n",
    "model.layers[-6].trainable = False\n",
    "\n",
    "model.compile(loss ='SparseCategoricalCrossentropy', optimizer ='rmsprop',metrics =['accuracy']) \n",
    " \n",
    "model.summary()"
   ]
  },
  {
   "cell_type": "code",
   "execution_count": null,
   "metadata": {},
   "outputs": [],
   "source": []
  },
  {
   "cell_type": "code",
   "execution_count": 35,
   "metadata": {},
   "outputs": [
    {
     "name": "stdout",
     "output_type": "stream",
     "text": [
      "Model: \"sequential_12\"\n",
      "_________________________________________________________________\n",
      "Layer (type)                 Output Shape              Param #   \n",
      "=================================================================\n",
      "keras_layer_7 (KerasLayer)   (None, 1001)              3540265   \n",
      "_________________________________________________________________\n",
      "dense_17 (Dense)             (None, 3)                 3006      \n",
      "=================================================================\n",
      "Total params: 3,543,271\n",
      "Trainable params: 3,006\n",
      "Non-trainable params: 3,540,265\n",
      "_________________________________________________________________\n"
     ]
    }
   ],
   "source": [
    "#Loading MobileNetV2 architecture\n",
    "CLASSIFIER_URL =\"https://tfhub.dev/google/tf2-preview/mobilenet_v2/classification/2\"\n",
    "IMAGE_RES = 224 #Image size in pixels as MobileNet is trained on same img size\n",
    "\n",
    "model1 = Sequential()\n",
    "model1.add(hub.KerasLayer(CLASSIFIER_URL,input_shape=(224,224,3)))\n",
    "\n",
    "model1.add(Dense(3,activation=\"softmax\"))\n",
    "\n",
    "model1.compile(optimizer=\"sgd\",loss=\"SparseCategoricalCrossentropy\",metrics=[\"accuracy\"])\n",
    "model1.summary()"
   ]
  },
  {
   "cell_type": "code",
   "execution_count": 24,
   "metadata": {},
   "outputs": [],
   "source": [
    "'''model = Sequential() \n",
    "model.add(Conv2D(32, (2, 2), input_shape = (120,120,3))) \n",
    "model.add(Activation('relu')) \n",
    "model.add(MaxPooling2D(pool_size =(2, 2))) \n",
    "  \n",
    "model.add(Conv2D(64, (2, 2),padding='same')) \n",
    "model.add(Activation('relu')) \n",
    "model.add(MaxPooling2D(pool_size =(2, 2))) \n",
    "  \n",
    "model.add(Conv2D(128, (2, 2),padding='valid')) \n",
    "model.add(Activation('relu')) \n",
    "model.add(MaxPooling2D(pool_size =(2, 2),strides=(1,1))) \n",
    "  \n",
    "model.add(Flatten()) \n",
    "model.add(Dense(64)) \n",
    "model.add(Activation('relu')) \n",
    "model.add(Dropout(0.1)) \n",
    "\n",
    "model.add(Dense(3)) \n",
    "model.add(Activation('softmax'))\n",
    "\n",
    "\n",
    "\n",
    "model.compile(loss ='SparseCategoricalCrossentropy', optimizer ='rmsprop',metrics =['accuracy']) '''"
   ]
  },
  {
   "cell_type": "code",
   "execution_count": 21,
   "metadata": {},
   "outputs": [
    {
     "name": "stdout",
     "output_type": "stream",
     "text": [
      "Found 6000 files belonging to 3 classes.\n",
      "Using 5400 files for training.\n"
     ]
    }
   ],
   "source": [
    "ds_train = tf.keras.preprocessing.image_dataset_from_directory(\n",
    "\"F:\\\\a for analytics\\\\afora\",labels = 'inferred',\n",
    "    label_mode = 'int',\n",
    "    batch_size = batch_size, \n",
    "    image_size = (image_height,image_width),\n",
    "    shuffle = True,\n",
    "    seed = 123,\n",
    "    validation_split = 0.1,\n",
    "    subset = \"training\"\n",
    ")"
   ]
  },
  {
   "cell_type": "code",
   "execution_count": 22,
   "metadata": {},
   "outputs": [
    {
     "name": "stdout",
     "output_type": "stream",
     "text": [
      "Found 6000 files belonging to 3 classes.\n",
      "Using 600 files for validation.\n"
     ]
    }
   ],
   "source": [
    "ds_test = tf.keras.preprocessing.image_dataset_from_directory(\n",
    "\"F:\\\\a for analytics\\\\afora\",labels = 'inferred',\n",
    "    label_mode = 'int',\n",
    "    batch_size = batch_size, \n",
    "    image_size = (image_height,image_width),\n",
    "    shuffle = True,\n",
    "    seed = 123,\n",
    "    validation_split = 0.1,\n",
    "    subset = \"validation\"\n",
    ")"
   ]
  },
  {
   "cell_type": "code",
   "execution_count": null,
   "metadata": {},
   "outputs": [],
   "source": []
  },
  {
   "cell_type": "code",
   "execution_count": 23,
   "metadata": {},
   "outputs": [],
   "source": [
    "def augment(x,y):\n",
    "    image = tf.image.random_brightness(x,max_delta = 0.01)\n",
    "    return image,y"
   ]
  },
  {
   "cell_type": "code",
   "execution_count": 24,
   "metadata": {},
   "outputs": [],
   "source": [
    "ds_train = ds_train.map(augment)"
   ]
  },
  {
   "cell_type": "code",
   "execution_count": 25,
   "metadata": {},
   "outputs": [
    {
     "data": {
      "text/plain": [
       "<MapDataset shapes: ((None, 224, 224, 3), (None,)), types: (tf.float32, tf.int32)>"
      ]
     },
     "execution_count": 25,
     "metadata": {},
     "output_type": "execute_result"
    }
   ],
   "source": [
    "ds_train"
   ]
  },
  {
   "cell_type": "code",
   "execution_count": 10,
   "metadata": {},
   "outputs": [
    {
     "name": "stderr",
     "output_type": "stream",
     "text": [
      "Executing Pipeline:   0%|                                                               | 0/2000 [00:00<?, ? Samples/s]"
     ]
    },
    {
     "name": "stdout",
     "output_type": "stream",
     "text": [
      "Initialised with 302 image(s) found.\n",
      "Output directory set to F:\\a for analytics\\Classification 20200820\\New\\output."
     ]
    },
    {
     "name": "stderr",
     "output_type": "stream",
     "text": [
      "Processing <PIL.JpegImagePlugin.JpegImageFile image mode=RGB size=850x638 at 0x228824B29C8>: 100%|█| 2000/2000 [00:38<0\n"
     ]
    }
   ],
   "source": [
    "import Augmentor\n",
    "\n",
    "p = Augmentor.Pipeline(\"F:\\\\a for analytics\\\\Classification 20200820\\\\New\")\n",
    "p.rotate(probability=0.7, max_left_rotation=10, max_right_rotation=10)\n",
    "p.zoom(probability=0.3, min_factor=1.1, max_factor=1.6)\n",
    "p.sample(2000)"
   ]
  },
  {
   "cell_type": "code",
   "execution_count": 11,
   "metadata": {},
   "outputs": [
    {
     "name": "stderr",
     "output_type": "stream",
     "text": [
      "Executing Pipeline:   0%|                                                               | 0/2000 [00:00<?, ? Samples/s]"
     ]
    },
    {
     "name": "stdout",
     "output_type": "stream",
     "text": [
      "Initialised with 301 image(s) found.\n",
      "Output directory set to F:\\a for analytics\\Classification 20200820\\OldBad\\output."
     ]
    },
    {
     "name": "stderr",
     "output_type": "stream",
     "text": [
      "Processing <PIL.Image.Image image mode=RGB size=850x638 at 0x228EE17F108>: 100%|█| 2000/2000 [00:44<00:00, 44.73 Sample\n"
     ]
    }
   ],
   "source": [
    "import Augmentor\n",
    "\n",
    "c = Augmentor.Pipeline(\"F:\\\\a for analytics\\\\Classification 20200820\\\\OldBad\")\n",
    "c.rotate(probability=0.7, max_left_rotation=10, max_right_rotation=10)\n",
    "c.zoom(probability=0.3, min_factor=1.1, max_factor=1.6)\n",
    "c.sample(2000)"
   ]
  },
  {
   "cell_type": "code",
   "execution_count": 12,
   "metadata": {},
   "outputs": [
    {
     "name": "stderr",
     "output_type": "stream",
     "text": [
      "Executing Pipeline:   0%|                                                               | 0/2000 [00:00<?, ? Samples/s]"
     ]
    },
    {
     "name": "stdout",
     "output_type": "stream",
     "text": [
      "Initialised with 167 image(s) found.\n",
      "Output directory set to F:\\a for analytics\\Classification 20200820\\OldGood\\output."
     ]
    },
    {
     "name": "stderr",
     "output_type": "stream",
     "text": [
      "Processing <PIL.Image.Image image mode=RGB size=720x960 at 0x22881F7FA48>: 100%|█| 2000/2000 [00:50<00:00, 39.34 Sample\n"
     ]
    }
   ],
   "source": [
    "a = Augmentor.Pipeline(\"F:\\\\a for analytics\\\\Classification 20200820\\\\OldGood\")\n",
    "a.rotate(probability=0.7, max_left_rotation=10, max_right_rotation=10)\n",
    "a.zoom(probability=0.3, min_factor=1.1, max_factor=1.6)\n",
    "a.sample(2000)"
   ]
  },
  {
   "cell_type": "code",
   "execution_count": null,
   "metadata": {
    "scrolled": true
   },
   "outputs": [],
   "source": [
    "start = time.time()\n",
    "history = model.fit(ds_train,steps_per_epoch = len(ds_train),\n",
    "                         epochs = 20,validation_data = ds_test, \n",
    "                            validation_steps = len(ds_test))\n",
    "end = time.time()\n",
    "print(\"Total train time: \",(end-start)/60,\" mins\")"
   ]
  },
  {
   "cell_type": "code",
   "execution_count": 36,
   "metadata": {},
   "outputs": [
    {
     "name": "stdout",
     "output_type": "stream",
     "text": [
      "Epoch 1/45\n",
      "169/169 [==============================] - 153s 865ms/step - loss: 3.5239 - accuracy: 0.4169 - val_loss: 2.5609 - val_accuracy: 0.4933\n",
      "Epoch 2/45\n",
      "169/169 [==============================] - 127s 750ms/step - loss: 2.6199 - accuracy: 0.4791 - val_loss: 1.2931 - val_accuracy: 0.5633\n",
      "Epoch 3/45\n",
      "169/169 [==============================] - 149s 880ms/step - loss: 2.7113 - accuracy: 0.4909 - val_loss: 1.5748 - val_accuracy: 0.5333\n",
      "Epoch 4/45\n",
      "169/169 [==============================] - 135s 792ms/step - loss: 2.3021 - accuracy: 0.5087 - val_loss: 1.5977 - val_accuracy: 0.5183\n",
      "Epoch 5/45\n",
      "169/169 [==============================] - 137s 812ms/step - loss: 2.1882 - accuracy: 0.5209 - val_loss: 2.2983 - val_accuracy: 0.4917\n",
      "Epoch 6/45\n",
      "169/169 [==============================] - 133s 784ms/step - loss: 2.0541 - accuracy: 0.5361 - val_loss: 3.6436 - val_accuracy: 0.5117\n",
      "Epoch 7/45\n",
      "169/169 [==============================] - 151s 892ms/step - loss: 2.1750 - accuracy: 0.5281 - val_loss: 1.6886 - val_accuracy: 0.5117\n",
      "Epoch 8/45\n",
      "169/169 [==============================] - 144s 850ms/step - loss: 1.8955 - accuracy: 0.5619 - val_loss: 1.8843 - val_accuracy: 0.5150\n",
      "Epoch 9/45\n",
      "169/169 [==============================] - 135s 799ms/step - loss: 2.0135 - accuracy: 0.5456 - val_loss: 1.5485 - val_accuracy: 0.5217\n",
      "Epoch 10/45\n",
      "169/169 [==============================] - 135s 796ms/step - loss: 1.9182 - accuracy: 0.5563 - val_loss: 2.3227 - val_accuracy: 0.5483\n",
      "Epoch 11/45\n",
      "169/169 [==============================] - 147s 870ms/step - loss: 1.8561 - accuracy: 0.5693 - val_loss: 5.0701 - val_accuracy: 0.4267\n",
      "Epoch 12/45\n",
      "169/169 [==============================] - 164s 967ms/step - loss: 1.7333 - accuracy: 0.5848 - val_loss: 3.7959 - val_accuracy: 0.4433\n",
      "Epoch 13/45\n",
      "169/169 [==============================] - 153s 903ms/step - loss: 1.8361 - accuracy: 0.5759 - val_loss: 4.3970 - val_accuracy: 0.4317\n",
      "Epoch 14/45\n",
      "169/169 [==============================] - 143s 842ms/step - loss: 1.7061 - accuracy: 0.5889 - val_loss: 1.6855 - val_accuracy: 0.5233\n",
      "Epoch 15/45\n",
      "169/169 [==============================] - 147s 868ms/step - loss: 1.8335 - accuracy: 0.5833 - val_loss: 3.1949 - val_accuracy: 0.4550\n",
      "Epoch 16/45\n",
      "169/169 [==============================] - 139s 821ms/step - loss: 1.7650 - accuracy: 0.5794 - val_loss: 1.7560 - val_accuracy: 0.5517\n",
      "Epoch 17/45\n",
      "169/169 [==============================] - 143s 845ms/step - loss: 1.7187 - accuracy: 0.5922 - val_loss: 2.3139 - val_accuracy: 0.4967\n",
      "Epoch 18/45\n",
      "169/169 [==============================] - 137s 807ms/step - loss: 1.5552 - accuracy: 0.6020 - val_loss: 1.0125 - val_accuracy: 0.6350\n",
      "Epoch 19/45\n",
      "169/169 [==============================] - 136s 803ms/step - loss: 1.6786 - accuracy: 0.5902 - val_loss: 2.2100 - val_accuracy: 0.5700\n",
      "Epoch 20/45\n",
      "169/169 [==============================] - 134s 793ms/step - loss: 1.6704 - accuracy: 0.5974 - val_loss: 1.5403 - val_accuracy: 0.5383\n",
      "Epoch 21/45\n",
      "169/169 [==============================] - 137s 808ms/step - loss: 1.5468 - accuracy: 0.5983 - val_loss: 1.0935 - val_accuracy: 0.6400\n",
      "Epoch 22/45\n",
      "169/169 [==============================] - 134s 792ms/step - loss: 1.6065 - accuracy: 0.5994 - val_loss: 1.6907 - val_accuracy: 0.5650\n",
      "Epoch 23/45\n",
      "169/169 [==============================] - 134s 790ms/step - loss: 1.4548 - accuracy: 0.6191 - val_loss: 1.5390 - val_accuracy: 0.5817\n",
      "Epoch 24/45\n",
      "169/169 [==============================] - 133s 788ms/step - loss: 1.6100 - accuracy: 0.6093 - val_loss: 2.7571 - val_accuracy: 0.4483\n",
      "Epoch 25/45\n",
      "169/169 [==============================] - 132s 779ms/step - loss: 1.4503 - accuracy: 0.6241 - val_loss: 1.5845 - val_accuracy: 0.5633\n",
      "Epoch 26/45\n",
      "169/169 [==============================] - 133s 788ms/step - loss: 1.4513 - accuracy: 0.6281 - val_loss: 1.2838 - val_accuracy: 0.6267\n",
      "Epoch 27/45\n",
      "169/169 [==============================] - 130s 769ms/step - loss: 1.4835 - accuracy: 0.6230 - val_loss: 1.5438 - val_accuracy: 0.5800\n",
      "Epoch 28/45\n",
      "169/169 [==============================] - 133s 786ms/step - loss: 1.3859 - accuracy: 0.6194 - val_loss: 0.7870 - val_accuracy: 0.7133\n",
      "Epoch 29/45\n",
      "169/169 [==============================] - 134s 791ms/step - loss: 1.5207 - accuracy: 0.6189 - val_loss: 1.1431 - val_accuracy: 0.6600\n",
      "Epoch 30/45\n",
      "169/169 [==============================] - 146s 861ms/step - loss: 1.4292 - accuracy: 0.6356 - val_loss: 2.1448 - val_accuracy: 0.5700\n",
      "Epoch 31/45\n",
      "169/169 [==============================] - 138s 815ms/step - loss: 1.5306 - accuracy: 0.6148 - val_loss: 2.1795 - val_accuracy: 0.4917\n",
      "Epoch 32/45\n",
      "169/169 [==============================] - 133s 786ms/step - loss: 1.2969 - accuracy: 0.6494 - val_loss: 1.7266 - val_accuracy: 0.5450\n",
      "Epoch 33/45\n",
      "169/169 [==============================] - 133s 785ms/step - loss: 1.4102 - accuracy: 0.6230 - val_loss: 0.8065 - val_accuracy: 0.7100\n",
      "Epoch 34/45\n",
      "169/169 [==============================] - 147s 870ms/step - loss: 1.3522 - accuracy: 0.6365 - val_loss: 1.1352 - val_accuracy: 0.6400\n",
      "Epoch 35/45\n",
      "169/169 [==============================] - 147s 869ms/step - loss: 1.4918 - accuracy: 0.6231 - val_loss: 1.1028 - val_accuracy: 0.6383\n",
      "Epoch 36/45\n",
      "169/169 [==============================] - 130s 766ms/step - loss: 1.3372 - accuracy: 0.6487 - val_loss: 1.6750 - val_accuracy: 0.5983\n",
      "Epoch 37/45\n",
      "169/169 [==============================] - 134s 790ms/step - loss: 1.3045 - accuracy: 0.6446 - val_loss: 2.7642 - val_accuracy: 0.5633\n",
      "Epoch 38/45\n",
      "169/169 [==============================] - 137s 807ms/step - loss: 1.4573 - accuracy: 0.6248 - val_loss: 1.1855 - val_accuracy: 0.6233\n",
      "Epoch 39/45\n",
      "169/169 [==============================] - 135s 798ms/step - loss: 1.4131 - accuracy: 0.6294 - val_loss: 1.0696 - val_accuracy: 0.6400\n",
      "Epoch 40/45\n",
      "169/169 [==============================] - 130s 767ms/step - loss: 1.4148 - accuracy: 0.6246 - val_loss: 0.7597 - val_accuracy: 0.7300\n",
      "Epoch 41/45\n",
      "169/169 [==============================] - 130s 768ms/step - loss: 1.3668 - accuracy: 0.6330 - val_loss: 1.2981 - val_accuracy: 0.6133\n",
      "Epoch 42/45\n",
      "169/169 [==============================] - 142s 837ms/step - loss: 1.2764 - accuracy: 0.6491 - val_loss: 1.4888 - val_accuracy: 0.5883\n",
      "Epoch 43/45\n",
      "169/169 [==============================] - 177s 1s/step - loss: 1.2768 - accuracy: 0.6526 - val_loss: 1.1393 - val_accuracy: 0.6417\n",
      "Epoch 44/45\n",
      "169/169 [==============================] - 178s 1s/step - loss: 1.3483 - accuracy: 0.6387 - val_loss: 2.2506 - val_accuracy: 0.4533\n",
      "Epoch 45/45\n",
      "169/169 [==============================] - 178s 1s/step - loss: 1.2929 - accuracy: 0.6589 - val_loss: 1.1314 - val_accuracy: 0.6533\n",
      "Total train time:  105.92201992670695  mins\n"
     ]
    }
   ],
   "source": [
    "start = time.time()\n",
    "\n",
    "history = model1.fit(ds_train,\n",
    "                    steps_per_epoch=len(ds_train),\n",
    "                    validation_data=(ds_test),\n",
    "                    validation_steps=len(ds_test),\n",
    "                    epochs=45)\n",
    "end = time.time()\n",
    "print(\"Total train time: \",(end-start)/60,\" mins\")"
   ]
  },
  {
   "cell_type": "code",
   "execution_count": null,
   "metadata": {},
   "outputs": [],
   "source": []
  },
  {
   "cell_type": "code",
   "execution_count": null,
   "metadata": {
    "scrolled": true
   },
   "outputs": [],
   "source": []
  },
  {
   "cell_type": "code",
   "execution_count": 26,
   "metadata": {},
   "outputs": [],
   "source": [
    "test_image = image.load_img('F:\\\\a for analytics\\\\New.jpg',\n",
    "                            target_size = (150,150,3))\n",
    "test_image = image.img_to_array(test_image)\n",
    "test_image = np.expand_dims(test_image, axis = 0)\n",
    "result = model.predict(test_image)\n"
   ]
  },
  {
   "cell_type": "code",
   "execution_count": 27,
   "metadata": {},
   "outputs": [],
   "source": [
    "test_image = image.load_img('F:\\\\a for analytics\\\\OldBad.jpg',\n",
    "                            target_size = (150,150,3))\n",
    "test_image = image.img_to_array(test_image)\n",
    "test_image = np.expand_dims(test_image, axis = 0)\n",
    "res = model.predict(test_image)\n"
   ]
  },
  {
   "cell_type": "code",
   "execution_count": 28,
   "metadata": {},
   "outputs": [
    {
     "name": "stdout",
     "output_type": "stream",
     "text": [
      "New\n"
     ]
    }
   ],
   "source": [
    "if result[0][0] == 1:\n",
    "    print('New')\n",
    "elif result[0][1]==1:\n",
    "    print('OldBad')\n",
    "elif result[0][2]==1:\n",
    "    print('OldGood')"
   ]
  },
  {
   "cell_type": "code",
   "execution_count": 29,
   "metadata": {},
   "outputs": [
    {
     "name": "stdout",
     "output_type": "stream",
     "text": [
      "OldBad\n"
     ]
    }
   ],
   "source": [
    "if res[0][0] == 1:\n",
    "    print('New')\n",
    "elif res[0][1]==1:\n",
    "    print('OldBad')\n",
    "elif res[0][2]==1:\n",
    "    print('OldGood')"
   ]
  },
  {
   "cell_type": "code",
   "execution_count": 40,
   "metadata": {},
   "outputs": [],
   "source": [
    "test_image = image.load_img('F:\\\\a for analytics\\\\New.jpg',\n",
    "                            target_size = (224,224,3))\n",
    "test_image = image.img_to_array(test_image)\n",
    "test_image = np.expand_dims(test_image, axis = 0)\n",
    "result = model1.predict(test_image)\n"
   ]
  },
  {
   "cell_type": "code",
   "execution_count": 42,
   "metadata": {},
   "outputs": [],
   "source": [
    "test_image = image.load_img('F:\\\\a for analytics\\\\OldBad.jpg',\n",
    "                            target_size = (224,224,3))\n",
    "test_image = image.img_to_array(test_image)\n",
    "test_image = np.expand_dims(test_image, axis = 0)\n",
    "res = model1.predict(test_image)"
   ]
  },
  {
   "cell_type": "code",
   "execution_count": 41,
   "metadata": {},
   "outputs": [],
   "source": [
    "if result[0][0] == 1:\n",
    "    print('New')\n",
    "elif result[0][1]==1:\n",
    "    print('OldBad')\n",
    "elif result[0][2]==1:\n",
    "    print('OldGood')"
   ]
  },
  {
   "cell_type": "code",
   "execution_count": 43,
   "metadata": {},
   "outputs": [],
   "source": [
    "if res[0][0] == 1:\n",
    "    print('New')\n",
    "elif res[0][1]==1:\n",
    "    print('OldBad')\n",
    "elif res[0][2]==1:\n",
    "    print('OldGood')"
   ]
  },
  {
   "cell_type": "code",
   "execution_count": 44,
   "metadata": {},
   "outputs": [
    {
     "data": {
      "image/png": "[encoded data removed]",
      "text/plain": [
       "<Figure size 432x288 with 1 Axes>"
      ]
     },
     "metadata": {
      "needs_background": "light"
     },
     "output_type": "display_data"
    }
   ],
   "source": [
    "import matplotlib.pyplot as plt\n",
    "\n",
    "plt.plot(history.history['loss'])\n",
    "plt.plot(history.history['val_loss'])\n",
    "plt.title('Model loss')\n",
    "plt.ylabel('Loss')\n",
    "plt.xlabel('Epoch')\n",
    "plt.legend(['Train', 'Validation'], loc='upper left')\n",
    "plt.show()"
   ]
  },
  {
   "cell_type": "code",
   "execution_count": 45,
   "metadata": {},
   "outputs": [
    {
     "data": {
      "image/png": "[encoded data removed]",
      "text/plain": [
       "<Figure size 432x288 with 1 Axes>"
      ]
     },
     "metadata": {
      "needs_background": "light"
     },
     "output_type": "display_data"
    }
   ],
   "source": [
    "plt.plot(history.history['accuracy'])\n",
    "plt.plot(history.history['val_accuracy'])\n",
    "plt.title('Model loss')\n",
    "plt.ylabel('Loss')\n",
    "plt.xlabel('Epoch')\n",
    "plt.legend(['Train', 'Validation'], loc='upper left')\n",
    "plt.show()"
   ]
  },
  {
   "cell_type": "code",
   "execution_count": 49,
   "metadata": {},
   "outputs": [
    {
     "ename": "ValueError",
     "evalue": "Unable to create dataset (name already exists)",
     "output_type": "error",
     "traceback": [
      "\u001b[1;31m---------------------------------------------------------------------------\u001b[0m",
      "\u001b[1;31mValueError\u001b[0m                                Traceback (most recent call last)",
      "\u001b[1;32m<ipython-input-49-f28a62991ec8>\u001b[0m in \u001b[0;36m<module>\u001b[1;34m\u001b[0m\n\u001b[1;32m----> 1\u001b[1;33m \u001b[0mmodel\u001b[0m\u001b[1;33m.\u001b[0m\u001b[0msave\u001b[0m\u001b[1;33m(\u001b[0m\u001b[1;34m'user.h5'\u001b[0m\u001b[1;33m)\u001b[0m\u001b[1;33m\u001b[0m\u001b[1;33m\u001b[0m\u001b[0m\n\u001b[0m",
      "\u001b[1;32m~\\anaconda3\\lib\\site-packages\\keras\\engine\\training.py\u001b[0m in \u001b[0;36msave\u001b[1;34m(self, filepath, overwrite, include_optimizer, save_format, signatures, options, save_traces)\u001b[0m\n\u001b[0;32m   2144\u001b[0m     \u001b[1;31m# pylint: enable=line-too-long\u001b[0m\u001b[1;33m\u001b[0m\u001b[1;33m\u001b[0m\u001b[1;33m\u001b[0m\u001b[0m\n\u001b[0;32m   2145\u001b[0m     save.save_model(self, filepath, overwrite, include_optimizer, save_format,\n\u001b[1;32m-> 2146\u001b[1;33m                     signatures, options, save_traces)\n\u001b[0m\u001b[0;32m   2147\u001b[0m \u001b[1;33m\u001b[0m\u001b[0m\n\u001b[0;32m   2148\u001b[0m   def save_weights(self,\n",
      "\u001b[1;32m~\\anaconda3\\lib\\site-packages\\keras\\saving\\save.py\u001b[0m in \u001b[0;36msave_model\u001b[1;34m(model, filepath, overwrite, include_optimizer, save_format, signatures, options, save_traces)\u001b[0m\n\u001b[0;32m    144\u001b[0m           'or using `save_weights`.')\n\u001b[0;32m    145\u001b[0m     hdf5_format.save_model_to_hdf5(\n\u001b[1;32m--> 146\u001b[1;33m         model, filepath, overwrite, include_optimizer)\n\u001b[0m\u001b[0;32m    147\u001b[0m   \u001b[1;32melse\u001b[0m\u001b[1;33m:\u001b[0m\u001b[1;33m\u001b[0m\u001b[1;33m\u001b[0m\u001b[0m\n\u001b[0;32m    148\u001b[0m     \u001b[1;32mwith\u001b[0m \u001b[0mgeneric_utils\u001b[0m\u001b[1;33m.\u001b[0m\u001b[0mSharedObjectSavingScope\u001b[0m\u001b[1;33m(\u001b[0m\u001b[1;33m)\u001b[0m\u001b[1;33m:\u001b[0m\u001b[1;33m\u001b[0m\u001b[1;33m\u001b[0m\u001b[0m\n",
      "\u001b[1;32m~\\anaconda3\\lib\\site-packages\\keras\\saving\\hdf5_format.py\u001b[0m in \u001b[0;36msave_model_to_hdf5\u001b[1;34m(model, filepath, overwrite, include_optimizer)\u001b[0m\n\u001b[0;32m    118\u001b[0m     \u001b[0mmodel_weights_group\u001b[0m \u001b[1;33m=\u001b[0m \u001b[0mf\u001b[0m\u001b[1;33m.\u001b[0m\u001b[0mcreate_group\u001b[0m\u001b[1;33m(\u001b[0m\u001b[1;34m'model_weights'\u001b[0m\u001b[1;33m)\u001b[0m\u001b[1;33m\u001b[0m\u001b[1;33m\u001b[0m\u001b[0m\n\u001b[0;32m    119\u001b[0m     \u001b[0mmodel_layers\u001b[0m \u001b[1;33m=\u001b[0m \u001b[0mmodel\u001b[0m\u001b[1;33m.\u001b[0m\u001b[0mlayers\u001b[0m\u001b[1;33m\u001b[0m\u001b[1;33m\u001b[0m\u001b[0m\n\u001b[1;32m--> 120\u001b[1;33m     \u001b[0msave_weights_to_hdf5_group\u001b[0m\u001b[1;33m(\u001b[0m\u001b[0mmodel_weights_group\u001b[0m\u001b[1;33m,\u001b[0m \u001b[0mmodel_layers\u001b[0m\u001b[1;33m)\u001b[0m\u001b[1;33m\u001b[0m\u001b[1;33m\u001b[0m\u001b[0m\n\u001b[0m\u001b[0;32m    121\u001b[0m \u001b[1;33m\u001b[0m\u001b[0m\n\u001b[0;32m    122\u001b[0m     \u001b[1;31m# TODO(b/128683857): Add integration tests between tf.keras and external\u001b[0m\u001b[1;33m\u001b[0m\u001b[1;33m\u001b[0m\u001b[1;33m\u001b[0m\u001b[0m\n",
      "\u001b[1;32m~\\anaconda3\\lib\\site-packages\\keras\\saving\\hdf5_format.py\u001b[0m in \u001b[0;36msave_weights_to_hdf5_group\u001b[1;34m(f, layers)\u001b[0m\n\u001b[0;32m    639\u001b[0m     \u001b[0msave_attributes_to_hdf5_group\u001b[0m\u001b[1;33m(\u001b[0m\u001b[0mg\u001b[0m\u001b[1;33m,\u001b[0m \u001b[1;34m'weight_names'\u001b[0m\u001b[1;33m,\u001b[0m \u001b[0mweight_names\u001b[0m\u001b[1;33m)\u001b[0m\u001b[1;33m\u001b[0m\u001b[1;33m\u001b[0m\u001b[0m\n\u001b[0;32m    640\u001b[0m     \u001b[1;32mfor\u001b[0m \u001b[0mname\u001b[0m\u001b[1;33m,\u001b[0m \u001b[0mval\u001b[0m \u001b[1;32min\u001b[0m \u001b[0mzip\u001b[0m\u001b[1;33m(\u001b[0m\u001b[0mweight_names\u001b[0m\u001b[1;33m,\u001b[0m \u001b[0mweight_values\u001b[0m\u001b[1;33m)\u001b[0m\u001b[1;33m:\u001b[0m\u001b[1;33m\u001b[0m\u001b[1;33m\u001b[0m\u001b[0m\n\u001b[1;32m--> 641\u001b[1;33m       \u001b[0mparam_dset\u001b[0m \u001b[1;33m=\u001b[0m \u001b[0mg\u001b[0m\u001b[1;33m.\u001b[0m\u001b[0mcreate_dataset\u001b[0m\u001b[1;33m(\u001b[0m\u001b[0mname\u001b[0m\u001b[1;33m,\u001b[0m \u001b[0mval\u001b[0m\u001b[1;33m.\u001b[0m\u001b[0mshape\u001b[0m\u001b[1;33m,\u001b[0m \u001b[0mdtype\u001b[0m\u001b[1;33m=\u001b[0m\u001b[0mval\u001b[0m\u001b[1;33m.\u001b[0m\u001b[0mdtype\u001b[0m\u001b[1;33m)\u001b[0m\u001b[1;33m\u001b[0m\u001b[1;33m\u001b[0m\u001b[0m\n\u001b[0m\u001b[0;32m    642\u001b[0m       \u001b[1;32mif\u001b[0m \u001b[1;32mnot\u001b[0m \u001b[0mval\u001b[0m\u001b[1;33m.\u001b[0m\u001b[0mshape\u001b[0m\u001b[1;33m:\u001b[0m\u001b[1;33m\u001b[0m\u001b[1;33m\u001b[0m\u001b[0m\n\u001b[0;32m    643\u001b[0m         \u001b[1;31m# scalar\u001b[0m\u001b[1;33m\u001b[0m\u001b[1;33m\u001b[0m\u001b[1;33m\u001b[0m\u001b[0m\n",
      "\u001b[1;32m~\\anaconda3\\lib\\site-packages\\h5py\\_hl\\group.py\u001b[0m in \u001b[0;36mcreate_dataset\u001b[1;34m(self, name, shape, dtype, data, **kwds)\u001b[0m\n\u001b[0;32m    146\u001b[0m                     \u001b[0mgroup\u001b[0m \u001b[1;33m=\u001b[0m \u001b[0mself\u001b[0m\u001b[1;33m.\u001b[0m\u001b[0mrequire_group\u001b[0m\u001b[1;33m(\u001b[0m\u001b[0mparent_path\u001b[0m\u001b[1;33m)\u001b[0m\u001b[1;33m\u001b[0m\u001b[1;33m\u001b[0m\u001b[0m\n\u001b[0;32m    147\u001b[0m \u001b[1;33m\u001b[0m\u001b[0m\n\u001b[1;32m--> 148\u001b[1;33m             \u001b[0mdsid\u001b[0m \u001b[1;33m=\u001b[0m \u001b[0mdataset\u001b[0m\u001b[1;33m.\u001b[0m\u001b[0mmake_new_dset\u001b[0m\u001b[1;33m(\u001b[0m\u001b[0mgroup\u001b[0m\u001b[1;33m,\u001b[0m \u001b[0mshape\u001b[0m\u001b[1;33m,\u001b[0m \u001b[0mdtype\u001b[0m\u001b[1;33m,\u001b[0m \u001b[0mdata\u001b[0m\u001b[1;33m,\u001b[0m \u001b[0mname\u001b[0m\u001b[1;33m,\u001b[0m \u001b[1;33m**\u001b[0m\u001b[0mkwds\u001b[0m\u001b[1;33m)\u001b[0m\u001b[1;33m\u001b[0m\u001b[1;33m\u001b[0m\u001b[0m\n\u001b[0m\u001b[0;32m    149\u001b[0m             \u001b[0mdset\u001b[0m \u001b[1;33m=\u001b[0m \u001b[0mdataset\u001b[0m\u001b[1;33m.\u001b[0m\u001b[0mDataset\u001b[0m\u001b[1;33m(\u001b[0m\u001b[0mdsid\u001b[0m\u001b[1;33m)\u001b[0m\u001b[1;33m\u001b[0m\u001b[1;33m\u001b[0m\u001b[0m\n\u001b[0;32m    150\u001b[0m             \u001b[1;32mreturn\u001b[0m \u001b[0mdset\u001b[0m\u001b[1;33m\u001b[0m\u001b[1;33m\u001b[0m\u001b[0m\n",
      "\u001b[1;32m~\\anaconda3\\lib\\site-packages\\h5py\\_hl\\dataset.py\u001b[0m in \u001b[0;36mmake_new_dset\u001b[1;34m(parent, shape, dtype, data, name, chunks, compression, shuffle, fletcher32, maxshape, compression_opts, fillvalue, scaleoffset, track_times, external, track_order, dcpl, allow_unknown_filter)\u001b[0m\n\u001b[0;32m    135\u001b[0m \u001b[1;33m\u001b[0m\u001b[0m\n\u001b[0;32m    136\u001b[0m \u001b[1;33m\u001b[0m\u001b[0m\n\u001b[1;32m--> 137\u001b[1;33m     \u001b[0mdset_id\u001b[0m \u001b[1;33m=\u001b[0m \u001b[0mh5d\u001b[0m\u001b[1;33m.\u001b[0m\u001b[0mcreate\u001b[0m\u001b[1;33m(\u001b[0m\u001b[0mparent\u001b[0m\u001b[1;33m.\u001b[0m\u001b[0mid\u001b[0m\u001b[1;33m,\u001b[0m \u001b[0mname\u001b[0m\u001b[1;33m,\u001b[0m \u001b[0mtid\u001b[0m\u001b[1;33m,\u001b[0m \u001b[0msid\u001b[0m\u001b[1;33m,\u001b[0m \u001b[0mdcpl\u001b[0m\u001b[1;33m=\u001b[0m\u001b[0mdcpl\u001b[0m\u001b[1;33m)\u001b[0m\u001b[1;33m\u001b[0m\u001b[1;33m\u001b[0m\u001b[0m\n\u001b[0m\u001b[0;32m    138\u001b[0m \u001b[1;33m\u001b[0m\u001b[0m\n\u001b[0;32m    139\u001b[0m     \u001b[1;32mif\u001b[0m \u001b[1;33m(\u001b[0m\u001b[0mdata\u001b[0m \u001b[1;32mis\u001b[0m \u001b[1;32mnot\u001b[0m \u001b[1;32mNone\u001b[0m\u001b[1;33m)\u001b[0m \u001b[1;32mand\u001b[0m \u001b[1;33m(\u001b[0m\u001b[1;32mnot\u001b[0m \u001b[0misinstance\u001b[0m\u001b[1;33m(\u001b[0m\u001b[0mdata\u001b[0m\u001b[1;33m,\u001b[0m \u001b[0mEmpty\u001b[0m\u001b[1;33m)\u001b[0m\u001b[1;33m)\u001b[0m\u001b[1;33m:\u001b[0m\u001b[1;33m\u001b[0m\u001b[1;33m\u001b[0m\u001b[0m\n",
      "\u001b[1;32mh5py\\_objects.pyx\u001b[0m in \u001b[0;36mh5py._objects.with_phil.wrapper\u001b[1;34m()\u001b[0m\n",
      "\u001b[1;32mh5py\\_objects.pyx\u001b[0m in \u001b[0;36mh5py._objects.with_phil.wrapper\u001b[1;34m()\u001b[0m\n",
      "\u001b[1;32mh5py\\h5d.pyx\u001b[0m in \u001b[0;36mh5py.h5d.create\u001b[1;34m()\u001b[0m\n",
      "\u001b[1;31mValueError\u001b[0m: Unable to create dataset (name already exists)"
     ]
    }
   ],
   "source": [
    "model.save('user.h5')"
   ]
  },
  {
   "cell_type": "code",
   "execution_count": null,
   "metadata": {},
   "outputs": [],
   "source": []
  },
  {
   "cell_type": "code",
   "execution_count": null,
   "metadata": {},
   "outputs": [],
   "source": []
  }
 ],
 "metadata": {
  "kernelspec": {
   "display_name": "Python 3",
   "language": "python",
   "name": "python3"
  },
  "language_info": {
   "codemirror_mode": {
    "name": "ipython",
    "version": 3
   },
   "file_extension": ".py",
   "mimetype": "text/x-python",
   "name": "python",
   "nbconvert_exporter": "python",
   "pygments_lexer": "ipython3",
   "version": "3.7.6"
  }
 },
 "nbformat": 4,
 "nbformat_minor": 4
}
